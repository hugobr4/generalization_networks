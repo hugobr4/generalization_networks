{
 "cells": [
  {
   "cell_type": "code",
   "execution_count": 1,
   "metadata": {},
   "outputs": [],
   "source": [
    "import random\n",
    "import numpy as np\n",
    "from scipy.stats import norm\n",
    "from matplotlib import pyplot as plt"
   ]
  },
  {
   "cell_type": "code",
   "execution_count": 2,
   "metadata": {},
   "outputs": [],
   "source": [
    "def gen(conditioning, p=True):\n",
    "    c_color = random.randrange(430, 771)\n",
    "    s_color = c_color - (random.randrange(50))\n",
    "    delta = abs(c_color - s_color)\n",
    "    redundance_test = None\n",
    "    \n",
    "    if p:\n",
    "        print('\\n'.join((\n",
    "            f\"Conditioning color is {c_color} nm\",\n",
    "            f\"Conditioning intensity is {conditioning}\",\n",
    "            f\"Stimulus color is {s_color} nm.\",\n",
    "            f\"∆ (difference between colors) is {delta} nm.\")\n",
    "        ))\n",
    "\n",
    "    if delta <= 40:\n",
    "        redundance_test = abs(40 - delta)/40\n",
    "        response = (conditioning * redundance_test) ** 2\n",
    "        if p:\n",
    "            return \"\\n\".join((f\"Redundance test is {redundance_test}\",\n",
    "                              f\"Response is {response}.\\n\"))\n",
    "        else:\n",
    "            return delta, conditioning, response\n",
    "    else:\n",
    "        response = 0\n",
    "        if p:\n",
    "            return \"Response is null.\\n\"\n",
    "        else:\n",
    "            return delta, conditioning, response"
   ]
  },
  {
   "cell_type": "code",
   "execution_count": 3,
   "metadata": {},
   "outputs": [
    {
     "name": "stdout",
     "output_type": "stream",
     "text": [
      "Conditioning color is 582 nm\n",
      "Conditioning intensity is 1.0\n",
      "Stimulus color is 561 nm.\n",
      "∆ (difference between colors) is 21 nm.\n",
      "Redundance test is 0.475\n",
      "Response is 0.225625.\n",
      "\n",
      "Conditioning color is 620 nm\n",
      "Conditioning intensity is 1.25\n",
      "Stimulus color is 612 nm.\n",
      "∆ (difference between colors) is 8 nm.\n",
      "Redundance test is 0.8\n",
      "Response is 1.0.\n",
      "\n",
      "Conditioning color is 692 nm\n",
      "Conditioning intensity is 1.5\n",
      "Stimulus color is 652 nm.\n",
      "∆ (difference between colors) is 40 nm.\n",
      "Redundance test is 0.0\n",
      "Response is 0.0.\n",
      "\n"
     ]
    }
   ],
   "source": [
    "# Iterations\n",
    "print(gen(1.0, p=True))\n",
    "print(gen(1.25, p=True))\n",
    "print(gen(1.5, p=True))"
   ]
  },
  {
   "cell_type": "code",
   "execution_count": 4,
   "metadata": {},
   "outputs": [],
   "source": [
    "def plot_expo(conditioning, n, label):\n",
    "    \n",
    "    distribution = []\n",
    "    for n in range(n+1):\n",
    "        distribution.append(gen(conditioning, p=False))\n",
    "        \n",
    "    delta, response = [i[0] for i in distribution], [i[2] for i in distribution]\n",
    "    \n",
    "    normal = norm.fit(response)\n",
    "    \n",
    "    plt.xlim(0, 50)\n",
    "    plt.ylim(0.0, 2.5)\n",
    "    \n",
    "    plt.xlabel(\"∆ nm\")\n",
    "    plt.ylabel(\"Degree of response\")\n",
    "    \n",
    "    plt.grid(linestyle=\"--\")\n",
    "    plt.title(f\"Exponential distribution of responses for {n} iterations.\")\n",
    "\n",
    "    def gauss_values():\n",
    "\n",
    "        print(f\"When conditioning degree is {conditioning},\")\n",
    "        print(f\"µ = {np.mean(response)}\")\n",
    "        print(f\"σ = {np.std(response)}\\n\")\n",
    "    \n",
    "    return plt.scatter(x=delta, y=response, label=f\"{label} ({conditioning})\"), gauss_values() "
   ]
  },
  {
   "cell_type": "code",
   "execution_count": 5,
   "metadata": {},
   "outputs": [
    {
     "name": "stdout",
     "output_type": "stream",
     "text": [
      "When conditioning degree is 1.0,\n",
      "µ = 0.2723332083958021\n",
      "σ = 0.3053182657561186\n",
      "\n",
      "When conditioning degree is 1.25,\n",
      "µ = 0.43357032421289354\n",
      "σ = 0.4861107758198228\n",
      "\n",
      "When conditioning degree is 1.5,\n",
      "µ = 0.6239758245877062\n",
      "σ = 0.6890701521356901\n",
      "\n"
     ]
    },
    {
     "data": {
      "text/plain": [
       "<matplotlib.legend.Legend at 0x1a1eab06d8>"
      ]
     },
     "execution_count": 5,
     "metadata": {},
     "output_type": "execute_result"
    },
    {
     "data": {
      "image/png": "[encoded data removed]",
      "text/plain": [
       "<Figure size 432x288 with 1 Axes>"
      ]
     },
     "metadata": {
      "needs_background": "light"
     },
     "output_type": "display_data"
    }
   ],
   "source": [
    "plot_expo(1.0, 2000, \"Weak\")\n",
    "plot_expo(1.25, 2000, \"Medium\")\n",
    "plot_expo(1.5, 2000, \"Strong\")\n",
    "\n",
    "plt.legend((\"Weak\", \"Medium\", \"Strong\"))"
   ]
  },
  {
   "cell_type": "code",
   "execution_count": null,
   "metadata": {},
   "outputs": [],
   "source": []
  }
 ],
 "metadata": {
  "kernelspec": {
   "display_name": "Python 3",
   "language": "python",
   "name": "python3"
  },
  "language_info": {
   "codemirror_mode": {
    "name": "ipython",
    "version": 3
   },
   "file_extension": ".py",
   "mimetype": "text/x-python",
   "name": "python",
   "nbconvert_exporter": "python",
   "pygments_lexer": "ipython3",
   "version": "3.7.0"
  }
 },
 "nbformat": 4,
 "nbformat_minor": 2
}
