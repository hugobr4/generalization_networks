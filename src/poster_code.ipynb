{
 "cells": [
  {
   "cell_type": "code",
   "execution_count": 1,
   "metadata": {},
   "outputs": [],
   "source": [
    "import random\n",
    "import numpy as np\n",
    "from scipy.stats import norm\n",
    "from matplotlib import pyplot as plt"
   ]
  },
  {
   "cell_type": "code",
   "execution_count": 33,
   "metadata": {},
   "outputs": [],
   "source": [
    "def gen(conditioning, p=True):\n",
    "    c_color = random.randrange(430, 771)\n",
    "    s_color = c_color - (random.randrange(50))\n",
    "    delta = abs(c_color - s_color)\n",
    "    redundance_test = None\n",
    "    \n",
    "    if p:\n",
    "        print('\\n'.join((\n",
    "            f\"Conditioning color is {c_color} nm\",\n",
    "            f\"Conditioning intensity is {conditioning}\",\n",
    "            f\"Stimulus color is {s_color} nm.\",\n",
    "            f\"∆ (difference between colors) is {delta} nm.\")\n",
    "        ))\n",
    "\n",
    "    if delta <= 40:\n",
    "        redundance_test = (40 - delta)/40\n",
    "        response = (conditioning * redundance_test) ** 1.5\n",
    "        if p:\n",
    "            return '\\n'.join((f\"Redundance test is {redundance_test}\",\n",
    "                              f\"Response is {response}.\\n\"))\n",
    "        else:\n",
    "            return delta, conditioning, response\n",
    "\n",
    "    else:\n",
    "        response = 0\n",
    "        if p:\n",
    "            return \"Response is null.\\n\"\n",
    "        else:\n",
    "            return delta, conditioning, response"
   ]
  },
  {
   "cell_type": "code",
   "execution_count": 34,
   "metadata": {},
   "outputs": [
    {
     "name": "stdout",
     "output_type": "stream",
     "text": [
      "Conditioning color is 760 nm\n",
      "Conditioning intensity is 1.0\n",
      "Stimulus color is 722 nm.\n",
      "∆ (difference between colors) is 38 nm.\n",
      "Redundance test is 0.05\n",
      "Response is 0.01118033988749895.\n",
      "\n",
      "Conditioning color is 565 nm\n",
      "Conditioning intensity is 1.25\n",
      "Stimulus color is 555 nm.\n",
      "∆ (difference between colors) is 10 nm.\n",
      "Redundance test is 0.75\n",
      "Response is 0.9077304717673633.\n",
      "\n",
      "Conditioning color is 430 nm\n",
      "Conditioning intensity is 1.5\n",
      "Stimulus color is 382 nm.\n",
      "∆ (difference between colors) is 48 nm.\n",
      "Response is null.\n",
      "\n"
     ]
    }
   ],
   "source": [
    "print(gen(1.0, p=True))\n",
    "print(gen(1.25, p=True))\n",
    "print(gen(1.5, p=True))"
   ]
  },
  {
   "cell_type": "code",
   "execution_count": 36,
   "metadata": {},
   "outputs": [],
   "source": [
    "def plot_gen(conditioning, n):\n",
    "    distribution = []\n",
    "    \n",
    "    for n in range(n):\n",
    "        distribution.append(gen(conditioning, p=False))\n",
    "        \n",
    "    delta, response = [i[0] for i in distribution], [i[2] for i in distribution]\n",
    "    \n",
    "    plt.xlim(0, 50)\n",
    "    plt.ylim(0.0, 2.5)\n",
    "    plt.title(\"\")\n",
    "\n",
    "    def gauss_values():\n",
    "        gauss_resp = [i for i in response if i > 0.01]\n",
    "        parameters = norm.fit(distribution)\n",
    "\n",
    "        print(f\"When conditioning degree is {conditioning},\")\n",
    "        print(f\"N = {np.mean(gauss_resp)}\")\n",
    "        print(f\"sig = {np.std(gauss_resp)}\")\n",
    "        print(parameters)\n",
    "    \n",
    "    return plt.scatter(x=delta, y=response), gauss_values() "
   ]
  },
  {
   "cell_type": "code",
   "execution_count": 37,
   "metadata": {},
   "outputs": [
    {
     "name": "stdout",
     "output_type": "stream",
     "text": [
      "When conditioning degree is 1.0,\n",
      "N = 0.3452602831067021\n",
      "sig = 0.33108140903572325\n",
      "(8.511086761035568, 14.101785064320465)\n",
      "When conditioning degree is 1.25,\n",
      "N = 0.47036577137233826\n",
      "sig = 0.4439365377165329\n",
      "(8.72412192379078, 14.005878689380134)\n",
      "When conditioning degree is 1.5,\n",
      "N = 0.5521096834364102\n",
      "sig = 0.5456934655951515\n",
      "(9.14403656114547, 13.907796285611923)\n"
     ]
    },
    {
     "data": {
      "text/plain": [
       "(<matplotlib.collections.PathCollection at 0x1a25317b38>, None)"
      ]
     },
     "execution_count": 37,
     "metadata": {},
     "output_type": "execute_result"
    },
    {
     "data": {
      "image/png": "[encoded data removed]",
      "text/plain": [
       "<Figure size 432x288 with 1 Axes>"
      ]
     },
     "metadata": {
      "needs_background": "light"
     },
     "output_type": "display_data"
    }
   ],
   "source": [
    "plot_gen(1.0, 250)\n",
    "plot_gen(1.25, 250)\n",
    "plot_gen(1.5, 250)"
   ]
  },
  {
   "cell_type": "code",
   "execution_count": null,
   "metadata": {},
   "outputs": [],
   "source": [
    "distribution = []\n",
    "\n",
    "for n in range(250):\n",
    "    distribution.append(generalization(1.5, p=False))\n",
    "\n",
    "\n",
    "deltas, response = [i[0] for i in distribution], [i[2] for i in distribution]\n",
    "plt.xlim(0, 50)\n",
    "plt.ylim(0.0, 2.5)\n",
    "plt.scatter(x=deltas, y=response)\n",
    "plt.show()\n",
    "\n",
    "gauss_resp = [i for i in response if i > 0.1]\n",
    "\n",
    "print(f\"N = {np.mean(gauss_resp)}\")\n",
    "print(f\"sig = {np.std(gauss_resp)}\")"
   ]
  },
  {
   "cell_type": "markdown",
   "metadata": {},
   "source": []
  },
  {
   "cell_type": "code",
   "execution_count": null,
   "metadata": {},
   "outputs": [],
   "source": [
    "def gauss_values(distribution):\n",
    "    deltas, response = [i[0] for i in distribution], [i[2] for i in distribution]\n",
    "    gauss_resp = [i for i in response if i > 0.1]\n",
    "    print(f\"N = {np.mean(gauss_resp)}\")\n",
    "    print(f\"sig = {np.std(gauss_resp)}\\n\")\n",
    "    return np.mean(gauss_resp), np.std(gauss_resp)"
   ]
  },
  {
   "cell_type": "code",
   "execution_count": null,
   "metadata": {},
   "outputs": [],
   "source": [
    "d1, d2, d3 = [], [], []\n",
    "for n in range(1000):\n",
    "    d1.append(generalization(1.0, p=False))\n",
    "    d2.append(generalization(1.25, p=False))\n",
    "    d3.append(generalization(1.5, p=False))\n",
    "\n",
    "for d in (d1, d2, d3):\n",
    "    gauss_values(d)"
   ]
  },
  {
   "cell_type": "code",
   "execution_count": null,
   "metadata": {},
   "outputs": [],
   "source": [
    "def make_gauss(N, sig, mu):\n",
    "    return lambda x: N/(sig * (2*np.pi)**.5) * np.e ** (-(x-mu)**2/(2 * sig**2))"
   ]
  },
  {
   "cell_type": "code",
   "execution_count": null,
   "metadata": {},
   "outputs": [],
   "source": []
  }
 ],
 "metadata": {
  "kernelspec": {
   "display_name": "Python 3",
   "language": "python",
   "name": "python3"
  },
  "language_info": {
   "codemirror_mode": {
    "name": "ipython",
    "version": 3
   },
   "file_extension": ".py",
   "mimetype": "text/x-python",
   "name": "python",
   "nbconvert_exporter": "python",
   "pygments_lexer": "ipython3",
   "version": "3.7.0"
  }
 },
 "nbformat": 4,
 "nbformat_minor": 2
}
