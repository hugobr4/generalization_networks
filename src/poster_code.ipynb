{
 "cells": [
  {
   "cell_type": "code",
   "execution_count": 3,
   "metadata": {},
   "outputs": [],
   "source": [
    "import random\n",
    "import numpy as np"
   ]
  },
  {
   "cell_type": "code",
   "execution_count": 38,
   "metadata": {},
   "outputs": [
    {
     "name": "stdout",
     "output_type": "stream",
     "text": [
      "Conditioning color is 499 nm\n",
      "Conditioning intensity is 1.0\n",
      "Stimulus color is 458 nm.\n",
      "∆ (difference between colors) is 41 nm.\n",
      "Response is null.\n"
     ]
    },
    {
     "data": {
      "text/plain": [
       "(41, 1.0, 0)"
      ]
     },
     "execution_count": 38,
     "metadata": {},
     "output_type": "execute_result"
    }
   ],
   "source": [
    "def generalization():\n",
    "    c_color = random.randrange(430, 771)\n",
    "    c_intensity = np.random.choice((1.0, 1.25, 1.5))\n",
    "    s_color = random.randrange(430, 771)\n",
    "    delta = abs(c_color - s_color)\n",
    "    redundance_test = None\n",
    "\n",
    "    print('\\n'.join((\n",
    "        f\"Conditioning color is {c_color} nm\",\n",
    "        f\"Conditioning intensity is {c_intensity}\",\n",
    "        f\"Stimulus color is {s_color} nm.\",\n",
    "        f\"∆ (difference between colors) is {delta} nm.\")\n",
    "    ))\n",
    "    \n",
    "    if delta <= 40:\n",
    "        redundance_test = (40 - delta)/40\n",
    "        response = (c_intensity * redundance_test) ** 2\n",
    "        print(\"\\n\".join(f\"Redundance test is {redundance_test}\",\n",
    "                        f\"Response is {response}.\"))\n",
    "        return delta, c_intensity, response\n",
    "    else:\n",
    "        response = 0\n",
    "        print(\"Response is null.\")\n",
    "        return delta, c_intensity, response\n",
    "\n",
    "generalization()"
   ]
  },
  {
   "cell_type": "code",
   "execution_count": null,
   "metadata": {},
   "outputs": [],
   "source": [
    "distribution = []\n",
    "\n",
    "for n in range(100):\n",
    "    distribution.append()"
   ]
  }
 ],
 "metadata": {
  "kernelspec": {
   "display_name": "Python 3",
   "language": "python",
   "name": "python3"
  },
  "language_info": {
   "codemirror_mode": {
    "name": "ipython",
    "version": 3
   },
   "file_extension": ".py",
   "mimetype": "text/x-python",
   "name": "python",
   "nbconvert_exporter": "python",
   "pygments_lexer": "ipython3",
   "version": "3.7.0"
  }
 },
 "nbformat": 4,
 "nbformat_minor": 2
}
