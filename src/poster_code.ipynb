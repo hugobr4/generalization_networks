{
 "cells": [
  {
   "cell_type": "code",
   "execution_count": 32,
   "metadata": {},
   "outputs": [],
   "source": [
    "import random\n",
    "import numpy as np\n",
    "from matplotlib import pyplot as plt"
   ]
  },
  {
   "cell_type": "code",
   "execution_count": 47,
   "metadata": {},
   "outputs": [
    {
     "name": "stdout",
     "output_type": "stream",
     "text": [
      "Response is null.\n"
     ]
    },
    {
     "data": {
      "text/plain": [
       "(108, 1.0, 0)"
      ]
     },
     "execution_count": 47,
     "metadata": {},
     "output_type": "execute_result"
    }
   ],
   "source": [
    "def generalization(conditioning, p=True):\n",
    "    c_color = random.randrange(430, 771)\n",
    "    s_color = random.randrange(430, 771)\n",
    "    delta = abs(c_color - s_color)\n",
    "    redundance_test = None\n",
    "    \n",
    "    if p:\n",
    "        print('\\n'.join((\n",
    "            f\"Conditioning color is {c_color} nm\",\n",
    "            f\"Conditioning intensity is {conditioning}\",\n",
    "            f\"Stimulus color is {s_color} nm.\",\n",
    "            f\"∆ (difference between colors) is {delta} nm.\")\n",
    "        ))\n",
    "\n",
    "    if delta <= 40:\n",
    "        redundance_test = (40 - delta)/40\n",
    "        response = (conditioning * redundance_test) ** 2\n",
    "        print(\"\\n\".join((f\"Redundance test is {redundance_test}\",\n",
    "                         f\"Response is {response}.\")))\n",
    "        return delta, conditioning, response\n",
    "    else:\n",
    "        response = 0\n",
    "        print(\"Response is null.\")\n",
    "        return delta, conditioning, response\n",
    "\n",
    "generalization(1.0, p=False)"
   ]
  },
  {
   "cell_type": "code",
   "execution_count": 48,
   "metadata": {},
   "outputs": [
    {
     "name": "stdout",
     "output_type": "stream",
     "text": [
      "Response is null.\n",
      "Redundance test is 0.625\n",
      "Response is 0.390625.\n",
      "Response is null.\n",
      "Response is null.\n",
      "Response is null.\n",
      "Response is null.\n",
      "Redundance test is 0.25\n",
      "Response is 0.0625.\n",
      "Response is null.\n",
      "Response is null.\n",
      "Response is null.\n",
      "Response is null.\n",
      "Response is null.\n",
      "Response is null.\n",
      "Response is null.\n",
      "Redundance test is 0.65\n",
      "Response is 0.42250000000000004.\n",
      "Response is null.\n",
      "Redundance test is 0.325\n",
      "Response is 0.10562500000000001.\n",
      "Response is null.\n",
      "Response is null.\n",
      "Response is null.\n",
      "Response is null.\n",
      "Redundance test is 0.35\n",
      "Response is 0.12249999999999998.\n",
      "Response is null.\n",
      "Response is null.\n",
      "Redundance test is 0.075\n",
      "Response is 0.005625.\n",
      "Response is null.\n",
      "Response is null.\n",
      "Redundance test is 0.825\n",
      "Response is 0.6806249999999999.\n",
      "Response is null.\n",
      "Response is null.\n",
      "Redundance test is 0.725\n",
      "Response is 0.525625.\n",
      "Response is null.\n",
      "Response is null.\n",
      "Redundance test is 0.7\n",
      "Response is 0.48999999999999994.\n",
      "Redundance test is 0.9\n",
      "Response is 0.81.\n",
      "Response is null.\n",
      "Response is null.\n",
      "Response is null.\n",
      "Redundance test is 0.65\n",
      "Response is 0.42250000000000004.\n",
      "Response is null.\n",
      "Response is null.\n",
      "Response is null.\n",
      "Redundance test is 0.925\n",
      "Response is 0.8556250000000001.\n",
      "Response is null.\n",
      "Response is null.\n",
      "Redundance test is 0.025\n",
      "Response is 0.0006250000000000001.\n",
      "Response is null.\n",
      "Redundance test is 0.575\n",
      "Response is 0.33062499999999995.\n",
      "Response is null.\n",
      "Response is null.\n",
      "Response is null.\n",
      "Response is null.\n",
      "Redundance test is 0.075\n",
      "Response is 0.005625.\n",
      "Response is null.\n",
      "Response is null.\n",
      "Response is null.\n",
      "Response is null.\n",
      "Response is null.\n",
      "Response is null.\n",
      "Response is null.\n",
      "Response is null.\n",
      "Response is null.\n",
      "Response is null.\n",
      "Response is null.\n",
      "Response is null.\n",
      "Response is null.\n",
      "Response is null.\n",
      "Response is null.\n",
      "Response is null.\n",
      "Response is null.\n",
      "Response is null.\n",
      "Response is null.\n",
      "Response is null.\n",
      "Response is null.\n",
      "Redundance test is 0.8\n",
      "Response is 0.6400000000000001.\n",
      "Redundance test is 0.575\n",
      "Response is 0.33062499999999995.\n",
      "Response is null.\n",
      "Redundance test is 0.375\n",
      "Response is 0.140625.\n",
      "Response is null.\n",
      "Response is null.\n",
      "Response is null.\n",
      "Redundance test is 1.0\n",
      "Response is 1.0.\n",
      "Response is null.\n",
      "Response is null.\n",
      "Redundance test is 0.05\n",
      "Response is 0.0025000000000000005.\n",
      "Response is null.\n",
      "Response is null.\n",
      "Response is null.\n",
      "Redundance test is 0.425\n",
      "Response is 0.18062499999999998.\n",
      "Redundance test is 0.0\n",
      "Response is 0.0.\n",
      "Response is null.\n",
      "Response is null.\n",
      "Response is null.\n",
      "Response is null.\n",
      "Redundance test is 0.225\n",
      "Response is 0.050625.\n",
      "Response is null.\n",
      "Response is null.\n",
      "Redundance test is 0.6\n",
      "Response is 0.36.\n",
      "Response is null.\n",
      "Redundance test is 0.575\n",
      "Response is 0.33062499999999995.\n"
     ]
    }
   ],
   "source": [
    "distribution = []\n",
    "\n",
    "for n in range(100):\n",
    "    distribution.append(generalization(1.0, p=False))"
   ]
  },
  {
   "cell_type": "code",
   "execution_count": 49,
   "metadata": {},
   "outputs": [
    {
     "data": {
      "image/png": "[encoded data removed]",
      "text/plain": [
       "<Figure size 432x288 with 1 Axes>"
      ]
     },
     "metadata": {
      "needs_background": "light"
     },
     "output_type": "display_data"
    }
   ],
   "source": [
    "deltas, response = [i[0] for i in distribution], [i[2] for i in distribution]\n",
    "plt.scatter(x=deltas, y=response)\n",
    "plt.show()"
   ]
  },
  {
   "cell_type": "code",
   "execution_count": null,
   "metadata": {},
   "outputs": [],
   "source": []
  }
 ],
 "metadata": {
  "kernelspec": {
   "display_name": "Python 3",
   "language": "python",
   "name": "python3"
  },
  "language_info": {
   "codemirror_mode": {
    "name": "ipython",
    "version": 3
   },
   "file_extension": ".py",
   "mimetype": "text/x-python",
   "name": "python",
   "nbconvert_exporter": "python",
   "pygments_lexer": "ipython3",
   "version": "3.7.0"
  }
 },
 "nbformat": 4,
 "nbformat_minor": 2
}
