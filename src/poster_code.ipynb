{
 "cells": [
  {
   "cell_type": "code",
   "execution_count": 30,
   "metadata": {},
   "outputs": [],
   "source": [
    "import random\n",
    "import numpy as np\n",
    "from matplotlib import pyplot as plt"
   ]
  },
  {
   "cell_type": "code",
   "execution_count": 31,
   "metadata": {},
   "outputs": [
    {
     "name": "stdout",
     "output_type": "stream",
     "text": [
      "Conditioning color is 462 nm\n",
      "Conditioning intensity is 1.0\n",
      "Stimulus color is 438 nm.\n",
      "∆ (difference between colors) is 24 nm.\n",
      "Redundance test is 0.4\n",
      "Response is 0.16000000000000003.\n",
      "\n",
      "(24, 1.0, 0.16000000000000003)\n",
      "Conditioning color is 737 nm\n",
      "Conditioning intensity is 1.25\n",
      "Stimulus color is 753 nm.\n",
      "∆ (difference between colors) is 16 nm.\n",
      "Redundance test is 0.6\n",
      "Response is 0.5625.\n",
      "\n",
      "(16, 1.25, 0.5625)\n",
      "Conditioning color is 439 nm\n",
      "Conditioning intensity is 1.5\n",
      "Stimulus color is 564 nm.\n",
      "∆ (difference between colors) is 125 nm.\n",
      "Response is null.\n",
      "\n",
      "(125, 1.5, 0)\n"
     ]
    }
   ],
   "source": [
    "def generalization(conditioning, p=True):\n",
    "    c_color = random.randrange(430, 771)\n",
    "    s_color = random.randrange(430, 771)\n",
    "    delta = abs(c_color - s_color)\n",
    "    redundance_test = None\n",
    "    \n",
    "    if p:\n",
    "        print('\\n'.join((\n",
    "            f\"Conditioning color is {c_color} nm\",\n",
    "            f\"Conditioning intensity is {conditioning}\",\n",
    "            f\"Stimulus color is {s_color} nm.\",\n",
    "            f\"∆ (difference between colors) is {delta} nm.\")\n",
    "        ))\n",
    "\n",
    "    if delta <= 40:\n",
    "        redundance_test = (40 - delta)/40\n",
    "        response = (conditioning * redundance_test) ** 2\n",
    "        if p:\n",
    "            print(\"\\n\".join((f\"Redundance test is {redundance_test}\",\n",
    "                         f\"Response is {response}.\\n\")))\n",
    "        return delta, conditioning, response\n",
    "    else:\n",
    "        response = 0\n",
    "        if p:\n",
    "            print(\"Response is null.\\n\")\n",
    "        return delta, conditioning, response\n",
    "\n",
    "print(generalization(1.0, p=True))\n",
    "print(generalization(1.25, p=True))\n",
    "print(generalization(1.5, p=True))"
   ]
  },
  {
   "cell_type": "code",
   "execution_count": 48,
   "metadata": {},
   "outputs": [
    {
     "data": {
      "image/png": "[encoded data removed]",
      "text/plain": [
       "<Figure size 432x288 with 1 Axes>"
      ]
     },
     "metadata": {
      "needs_background": "light"
     },
     "output_type": "display_data"
    }
   ],
   "source": [
    "distribution = []\n",
    "\n",
    "for n in range(100):\n",
    "    distribution.append(generalization(1.0, p=False))\n",
    "\n",
    "deltas, response = [i[0] for i in distribution], [i[2] for i in distribution]\n",
    "plt.xlim(-50.0, 50)\n",
    "plt.ylim(0.0, 2.5)\n",
    "plt.scatter(x=deltas, y=response)\n",
    "plt.show()"
   ]
  },
  {
   "cell_type": "code",
   "execution_count": 46,
   "metadata": {},
   "outputs": [
    {
     "data": {
      "image/png": "[encoded data removed]",
      "text/plain": [
       "<Figure size 432x288 with 1 Axes>"
      ]
     },
     "metadata": {
      "needs_background": "light"
     },
     "output_type": "display_data"
    },
    {
     "name": "stdout",
     "output_type": "stream",
     "text": [
      "N = 0.7069936899038461\n",
      "sig = 0.40636153463274444\n"
     ]
    }
   ],
   "source": [
    "distribution = []\n",
    "\n",
    "for n in range(1000):\n",
    "    distribution.append(generalization(1.25, p=False))\n",
    "\n",
    "\n",
    "deltas, response = [i[0] for i in distribution], [i[2] for i in distribution]\n",
    "plt.xlim(-50.0, 50)\n",
    "plt.ylim(0.0, 2.5)\n",
    "plt.scatter(x=deltas, y=response)\n",
    "plt.show()\n",
    "\n",
    "gauss_resp = [i for i in response if i > 0.1]\n",
    "\n",
    "print(f\"N = {np.mean(gauss_resp)}\")\n",
    "print(f\"sig = {np.std(gauss_resp)}\")"
   ]
  },
  {
   "cell_type": "code",
   "execution_count": 45,
   "metadata": {},
   "outputs": [
    {
     "data": {
      "image/png": "[encoded data removed]",
      "text/plain": [
       "<Figure size 432x288 with 1 Axes>"
      ]
     },
     "metadata": {
      "needs_background": "light"
     },
     "output_type": "display_data"
    },
    {
     "name": "stdout",
     "output_type": "stream",
     "text": [
      "N = 1.0363113496932514\n",
      "sig = 0.6126287913326695\n"
     ]
    }
   ],
   "source": [
    "distribution = []\n",
    "\n",
    "for n in range(1000):\n",
    "    distribution.append(generalization(1.5, p=False))\n",
    "\n",
    "\n",
    "deltas, response = [i[0] for i in distribution], [i[2] for i in distribution]\n",
    "plt.xlim(-50.0, 50)\n",
    "plt.ylim(0.0, 2.5)\n",
    "plt.scatter(x=deltas, y=response)\n",
    "plt.show()\n",
    "\n",
    "gauss_resp = [i for i in response if i > 0.1]\n",
    "\n",
    "print(f\"N = {np.mean(gauss_resp)}\")\n",
    "print(f\"sig = {np.std(gauss_resp)}\")"
   ]
  },
  {
   "cell_type": "markdown",
   "metadata": {},
   "source": []
  },
  {
   "cell_type": "code",
   "execution_count": 43,
   "metadata": {},
   "outputs": [],
   "source": [
    "def gauss_values(distribution):\n",
    "    deltas, response = [i[0] for i in distribution], [i[2] for i in distribution]\n",
    "    gauss_resp = [i for i in response if i > 0.1]\n",
    "    print(f\"N = {np.mean(gauss_resp)}\")\n",
    "    print(f\"sig = {np.std(gauss_resp)}\\n\")\n",
    "    return np.mean(gauss_resp), np.std(gauss_resp)"
   ]
  },
  {
   "cell_type": "code",
   "execution_count": 44,
   "metadata": {},
   "outputs": [
    {
     "name": "stdout",
     "output_type": "stream",
     "text": [
      "N = 0.44157271241830065\n",
      "sig = 0.25251116369159726\n",
      "\n",
      "N = 0.7147812954215116\n",
      "sig = 0.43987398275872136\n",
      "\n",
      "N = 0.9974274861878454\n",
      "sig = 0.6312062022637908\n",
      "\n"
     ]
    }
   ],
   "source": [
    "d1, d2, d3 = [], [], []\n",
    "for n in range(1000):\n",
    "    d1.append(generalization(1.0, p=False))\n",
    "    d2.append(generalization(1.25, p=False))\n",
    "    d3.append(generalization(1.5, p=False))\n",
    "\n",
    "for d in (d1, d2, d3):\n",
    "    gauss_values(d)"
   ]
  },
  {
   "cell_type": "code",
   "execution_count": 22,
   "metadata": {},
   "outputs": [],
   "source": [
    "def make_gauss(N, sig, mu):\n",
    "    return lambda x: N/(sig * (2*np.pi)**.5) * np.e ** (-(x-mu)**2/(2 * sig**2))"
   ]
  },
  {
   "cell_type": "code",
   "execution_count": null,
   "metadata": {},
   "outputs": [],
   "source": []
  }
 ],
 "metadata": {
  "kernelspec": {
   "display_name": "Python 3",
   "language": "python",
   "name": "python3"
  },
  "language_info": {
   "codemirror_mode": {
    "name": "ipython",
    "version": 3
   },
   "file_extension": ".py",
   "mimetype": "text/x-python",
   "name": "python",
   "nbconvert_exporter": "python",
   "pygments_lexer": "ipython3",
   "version": "3.7.0"
  }
 },
 "nbformat": 4,
 "nbformat_minor": 2
}
